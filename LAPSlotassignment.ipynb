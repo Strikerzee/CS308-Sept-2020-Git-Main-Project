{
  "nbformat": 4,
  "nbformat_minor": 0,
  "metadata": {
    "colab": {
      "name": "LAPSlotassignment.ipynb",
      "provenance": [],
      "collapsed_sections": [],
      "include_colab_link": true
    },
    "kernelspec": {
      "name": "python3",
      "display_name": "Python 3"
    }
  },
  "cells": [
    {
      "cell_type": "markdown",
      "metadata": {
        "id": "view-in-github",
        "colab_type": "text"
      },
      "source": [
        "<a href=\"https://colab.research.google.com/github/Strikerzee/CS308-Sept-2020-Git-Main-Project/blob/master/LAPSlotassignment.ipynb\" target=\"_parent\"><img src=\"https://colab.research.google.com/assets/colab-badge.svg\" alt=\"Open In Colab\"/></a>"
      ]
    },
    {
      "cell_type": "code",
      "metadata": {
        "id": "5giCfc8H4h1F"
      },
      "source": [
        "from typing import Generic, TypeVar, Dict, List, Optional\n",
        "from abc import ABC, abstractmethod\n",
        "import pandas as pd\n",
        "import math"
      ],
      "execution_count": null,
      "outputs": []
    },
    {
      "cell_type": "code",
      "metadata": {
        "id": "1Ej1nITW4140"
      },
      "source": [
        "V = TypeVar('V') # variable type\n",
        "D = TypeVar('D') # domain type"
      ],
      "execution_count": null,
      "outputs": []
    },
    {
      "cell_type": "code",
      "metadata": {
        "id": "pYY6Xc5-3hnl"
      },
      "source": [
        "# Base class for all constraints\n",
        "class Constraint(Generic[V, D], ABC):\n",
        "    # The variables that the constraint is between\n",
        "    def __init__(self, variables: List[V]) -> None:\n",
        "        self.variables = variables\n",
        "\n",
        "    # Must be overridden by subclasses\n",
        "    @abstractmethod\n",
        "    def satisfied(self, assignment: Dict[V, D]) -> bool:\n",
        "        ..."
      ],
      "execution_count": null,
      "outputs": []
    },
    {
      "cell_type": "code",
      "metadata": {
        "id": "pITTQXmU4zLx"
      },
      "source": [
        "# A constraint satisfaction problem consists of variables of type V\n",
        "# that have ranges of values known as domains of type D and constraints\n",
        "# that determine whether a particular variable's domain selection is valid\n",
        "class CSP(Generic[V, D]):\n",
        "    def __init__(self, variables: List[V], domains: Dict[V, List[D]]) -> None:\n",
        "        self.variables: List[V] = variables # variables to be constrained\n",
        "        self.domains: Dict[V, List[D]] = domains # domain of each variable\n",
        "        self.constraints: Dict[V, List[Constraint[V, D]]] = {}\n",
        "        for variable in self.variables:\n",
        "            self.constraints[variable] = []\n",
        "            if variable not in self.domains:\n",
        "                raise LookupError(\"Every variable should have a domain assigned to it.\")\n",
        "        self.slots: Dict[D, int] = {}\n",
        "        self.slots[\"A\"] = 0\n",
        "        self.slots[\"B\"] = 0\n",
        "        self.slots[\"C\"] = 0\n",
        "        self.slots[\"D\"] = 0\n",
        "        self.slots[\"E\"] = 0\n",
        "        self.slots[\"F\"] = 0\n",
        "\n",
        "    def add_constraint(self, constraint: Constraint[V, D]) -> None:\n",
        "        for variable in constraint.variables:\n",
        "            if variable not in self.variables:\n",
        "                raise LookupError(\"Variable in constraint not in CSP\")\n",
        "            else:\n",
        "                self.constraints[variable].append(constraint)\n",
        "\n",
        "    # Check if the value assignment is consistent by checking all constraints\n",
        "    # for the given variable against it\n",
        "    def consistent(self, variable: V, assignment: Dict[V, D]) -> bool:\n",
        "        for constraint in self.constraints[variable]:\n",
        "            if not constraint.satisfied(assignment):\n",
        "                return False\n",
        "        return True\n",
        "\n",
        "    def backtracking_search(self, assignment: Dict[V, D] = {}) -> Optional[Dict[V, D]]:\n",
        "        # assignment is complete if every variable is assigned (our base case)\n",
        "        if len(assignment) == len(self.variables):\n",
        "            return assignment\n",
        "\n",
        "        # get all variables in the CSP but not in the assignment\n",
        "        unassigned: List[V] = [v for v in self.variables if v not in assignment]\n",
        "\n",
        "        # get the every possible domain value of the first unassigned variable\n",
        "        first: V = unassigned[0]\n",
        "        for value in self.domains[first]:\n",
        "            if self.slots[value] < 9:\n",
        "                self.slots[value] = self.slots[value] + 1\n",
        "                local_assignment = assignment.copy()\n",
        "                local_assignment[first] = value\n",
        "                # if we're still consistent, we recurse (continue)\n",
        "                if self.consistent(first, local_assignment):\n",
        "                    result: Optional[Dict[V, D]] = self.backtracking_search(local_assignment)\n",
        "                    # if we didn't find the result, we will end up backtracking\n",
        "                    if result is not None:\n",
        "                        return result\n",
        "                self.slots[value] = self.slots[value] - 1\n",
        "        return None"
      ],
      "execution_count": null,
      "outputs": []
    },
    {
      "cell_type": "code",
      "metadata": {
        "id": "UFe2Zjr54Uov"
      },
      "source": [
        "class CourseSchedulingConstraint(Constraint[str, str]):\n",
        "    def __init__(self, course1: str, course2: str) -> None:\n",
        "        super().__init__([course1, course2])\n",
        "        self.course1: str = course1\n",
        "        self.course2: str = course2\n",
        "\n",
        "    def satisfied(self, assignment: Dict[str, str]) -> bool:\n",
        "        # If either place is not in the assignment then it is not\n",
        "        # yet possible for their colors to be conflicting\n",
        "        if self.course1 not in assignment or self.course2 not in assignment:\n",
        "            return True\n",
        "        # check the color assigned to course1 is not the same as the\n",
        "        # color assigned to course2\n",
        "        return assignment[self.course1] != assignment[self.course2]"
      ],
      "execution_count": null,
      "outputs": []
    },
    {
      "cell_type": "code",
      "metadata": {
        "id": "8ZotF_yM4-Mq",
        "outputId": "b9db0088-75f5-4428-d270-27d8ac6301ed",
        "colab": {
          "base_uri": "https://localhost:8080/"
        }
      },
      "source": [
        "if __name__ == \"__main__\":\n",
        "    df= pd.read_csv('/content/Course List - Sheet1.csv', usecols= ['Course'], keep_default_na=False)\n",
        "    df_course= pd.read_csv('/content/Course List - Sheet1.csv', keep_default_na=False)\n",
        "\n",
        "    course_list = df.values.tolist()\n",
        "    course_list = [item[0] for item in course_list]\n",
        "    course_instructor_list = df_course.values.tolist()\n",
        "\n",
        "    df_clash= pd.read_csv('/content/Course List - Sheet2.csv', keep_default_na=False)\n",
        "    clash_list = df_clash.values.tolist()\n",
        "\n",
        "    variables: List[str] = course_list\n",
        "\n",
        "    domains: Dict[str, List[str]] = {}\n",
        "    for variable in variables:\n",
        "        domains[variable] = [\"A\", \"B\", \"C\", \"D\", \"E\", \"F\"]\n",
        "\n",
        "    csp: CSP[str, str] = CSP(variables, domains)\n",
        "    csp.add_constraint(CourseSchedulingConstraint(\"HS102\", \"HS103\")) \n",
        "    csp.add_constraint(CourseSchedulingConstraint(\"HS103\", \"HS105\"))\n",
        "    csp.add_constraint(CourseSchedulingConstraint(\"HS103\", \"HS208\"))\n",
        "    csp.add_constraint(CourseSchedulingConstraint(\"HS104\", \"HS105\"))\n",
        "\n",
        "     \n",
        "    for c_list in clash_list:\n",
        "        for crs in c_list:\n",
        "            for drs in c_list[(c_list.index(crs)+1):]:\n",
        "                if crs != \"\" and drs != \"\":\n",
        "                    csp.add_constraint(CourseSchedulingConstraint(crs,drs))\n",
        "\n",
        "    instructor_to_courses_map = {}\n",
        "    for item in course_instructor_list:\n",
        "        courseCode = item[0]\n",
        "        instructor = item[1]\n",
        "    \n",
        "        if instructor in instructor_to_courses_map:\n",
        "            temp_list = instructor_to_courses_map[instructor]\n",
        "            \n",
        "            temp_list = temp_list + [courseCode]\n",
        "            instructor_to_courses_map[instructor] = temp_list\n",
        "        else:\n",
        "            temp_list = [courseCode]\n",
        "            instructor_to_courses_map[instructor] = temp_list\n",
        "\n",
        "    for instructor in instructor_to_courses_map:\n",
        "        c_list = instructor_to_courses_map[instructor]\n",
        "        for crs in c_list:\n",
        "            for drs in c_list[(c_list.index(crs)+1):]:\n",
        "                csp.add_constraint(CourseSchedulingConstraint(crs,drs))\n",
        "\n",
        "    solution: Optional[Dict[str, str]] = csp.backtracking_search()\n",
        "    if solution is None:\n",
        "        print(\"No solution found!\")\n",
        "    else:\n",
        "        slots_courses: Dict[str, List[str]] = {}\n",
        "        for course in variables:\n",
        "            if solution[course] in slots_courses.keys():\n",
        "                slots_courses[solution[course]].append(course)\n",
        "            else:\n",
        "                slots_courses[solution[course]] = [course]\n",
        "        print(\"Course Slots: \")\n",
        "        for key, value in slots_courses.items():\n",
        "            print(key, ' : ', value)\n",
        "        \n",
        "        classrooms = [\"A1\", \"A2\", \"A3\", \"A4\", \"A5\",\"A6\",\"A7\",\"A8\", \"A9\"]\n",
        "        course_classroom: Dict[str, str] = {}\n",
        "        for slot in slots_courses.keys():\n",
        "            i = 0\n",
        "            for course in slots_courses[slot]:\n",
        "                course_classroom[course] = classrooms[i]\n",
        "                i = i + 1\n",
        "        print(\"\\nClassroom Allotment: \")\n",
        "        for key, value in course_classroom.items():\n",
        "            print(key, ' : ', value)\n",
        "        "
      ],
      "execution_count": null,
      "outputs": [
        {
          "output_type": "stream",
          "text": [
            "Course Slots: \n",
            "A  :  ['HS102', 'HS104', 'HS151', 'HS152', 'HS202', 'HS203', 'HS204', 'HS206', 'HS208']\n",
            "B  :  ['HS103', 'HS205', 'HS235', 'HS254', 'HS255', 'HS261', 'HS301', 'HS304', 'HS341']\n",
            "C  :  ['HS105', 'HS342', 'HS343', 'HS352', 'HS353', 'HS354', 'HS355', 'HS362', 'HS381']\n",
            "D  :  ['HS351', 'HS363', 'HS372', 'HS373', 'HS382', 'HS392', 'HS403', 'HS450', 'HS502']\n",
            "E  :  ['HS391', 'HS510']\n",
            "\n",
            "Classroom Allotment: \n",
            "HS102  :  A1\n",
            "HS104  :  A2\n",
            "HS151  :  A3\n",
            "HS152  :  A4\n",
            "HS202  :  A5\n",
            "HS203  :  A6\n",
            "HS204  :  A7\n",
            "HS206  :  A8\n",
            "HS208  :  A9\n",
            "HS103  :  A1\n",
            "HS205  :  A2\n",
            "HS235  :  A3\n",
            "HS254  :  A4\n",
            "HS255  :  A5\n",
            "HS261  :  A6\n",
            "HS301  :  A7\n",
            "HS304  :  A8\n",
            "HS341  :  A9\n",
            "HS105  :  A1\n",
            "HS342  :  A2\n",
            "HS343  :  A3\n",
            "HS352  :  A4\n",
            "HS353  :  A5\n",
            "HS354  :  A6\n",
            "HS355  :  A7\n",
            "HS362  :  A8\n",
            "HS381  :  A9\n",
            "HS351  :  A1\n",
            "HS363  :  A2\n",
            "HS372  :  A3\n",
            "HS373  :  A4\n",
            "HS382  :  A5\n",
            "HS392  :  A6\n",
            "HS403  :  A7\n",
            "HS450  :  A8\n",
            "HS502  :  A9\n",
            "HS391  :  A1\n",
            "HS510  :  A2\n"
          ],
          "name": "stdout"
        }
      ]
    }
  ]
}